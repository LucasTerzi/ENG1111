{
  "cells": [
    {
      "cell_type": "markdown",
      "metadata": {
        "id": "view-in-github",
        "colab_type": "text"
      },
      "source": [
        "<a href=\"https://colab.research.google.com/github/LucasTerzi/ENG1111/blob/main/RedeNeural.ipynb\" target=\"_parent\"><img src=\"https://colab.research.google.com/assets/colab-badge.svg\" alt=\"Open In Colab\"/></a>"
      ]
    },
    {
      "cell_type": "code",
      "execution_count": null,
      "metadata": {
        "colab": {
          "base_uri": "https://localhost:8080/",
          "height": 363
        },
        "id": "MoAzbPj8kskl",
        "outputId": "1ff59059-4316-428b-8192-aefdb2c0586d"
      },
      "outputs": [
        {
          "output_type": "execute_result",
          "data": {
            "text/plain": [
              "     budget popularity      revenue  runtime  vote_average\n",
              "0  30000000  21.946943  373554033.0     81.0           7.7\n",
              "1  65000000  17.015539  262797249.0    104.0           6.9\n",
              "2         0    11.7129          0.0    101.0           6.5\n",
              "3  16000000   3.859495   81452156.0    127.0           6.1\n",
              "4         0   8.387519   76578911.0    106.0           5.7\n",
              "5  60000000  17.924927  187436818.0    170.0           7.7\n",
              "6  58000000   6.677277          0.0    127.0           6.2\n",
              "7         0   2.561161          0.0     97.0           5.4\n",
              "8  35000000    5.23158   64350171.0    106.0           5.5\n",
              "9  58000000  14.686036  352194034.0    130.0           6.6"
            ],
            "text/html": [
              "\n",
              "  <div id=\"df-2bd37201-4060-4f47-87ed-7f61483509bf\">\n",
              "    <div class=\"colab-df-container\">\n",
              "      <div>\n",
              "<style scoped>\n",
              "    .dataframe tbody tr th:only-of-type {\n",
              "        vertical-align: middle;\n",
              "    }\n",
              "\n",
              "    .dataframe tbody tr th {\n",
              "        vertical-align: top;\n",
              "    }\n",
              "\n",
              "    .dataframe thead th {\n",
              "        text-align: right;\n",
              "    }\n",
              "</style>\n",
              "<table border=\"1\" class=\"dataframe\">\n",
              "  <thead>\n",
              "    <tr style=\"text-align: right;\">\n",
              "      <th></th>\n",
              "      <th>budget</th>\n",
              "      <th>popularity</th>\n",
              "      <th>revenue</th>\n",
              "      <th>runtime</th>\n",
              "      <th>vote_average</th>\n",
              "    </tr>\n",
              "  </thead>\n",
              "  <tbody>\n",
              "    <tr>\n",
              "      <th>0</th>\n",
              "      <td>30000000</td>\n",
              "      <td>21.946943</td>\n",
              "      <td>373554033.0</td>\n",
              "      <td>81.0</td>\n",
              "      <td>7.7</td>\n",
              "    </tr>\n",
              "    <tr>\n",
              "      <th>1</th>\n",
              "      <td>65000000</td>\n",
              "      <td>17.015539</td>\n",
              "      <td>262797249.0</td>\n",
              "      <td>104.0</td>\n",
              "      <td>6.9</td>\n",
              "    </tr>\n",
              "    <tr>\n",
              "      <th>2</th>\n",
              "      <td>0</td>\n",
              "      <td>11.7129</td>\n",
              "      <td>0.0</td>\n",
              "      <td>101.0</td>\n",
              "      <td>6.5</td>\n",
              "    </tr>\n",
              "    <tr>\n",
              "      <th>3</th>\n",
              "      <td>16000000</td>\n",
              "      <td>3.859495</td>\n",
              "      <td>81452156.0</td>\n",
              "      <td>127.0</td>\n",
              "      <td>6.1</td>\n",
              "    </tr>\n",
              "    <tr>\n",
              "      <th>4</th>\n",
              "      <td>0</td>\n",
              "      <td>8.387519</td>\n",
              "      <td>76578911.0</td>\n",
              "      <td>106.0</td>\n",
              "      <td>5.7</td>\n",
              "    </tr>\n",
              "    <tr>\n",
              "      <th>5</th>\n",
              "      <td>60000000</td>\n",
              "      <td>17.924927</td>\n",
              "      <td>187436818.0</td>\n",
              "      <td>170.0</td>\n",
              "      <td>7.7</td>\n",
              "    </tr>\n",
              "    <tr>\n",
              "      <th>6</th>\n",
              "      <td>58000000</td>\n",
              "      <td>6.677277</td>\n",
              "      <td>0.0</td>\n",
              "      <td>127.0</td>\n",
              "      <td>6.2</td>\n",
              "    </tr>\n",
              "    <tr>\n",
              "      <th>7</th>\n",
              "      <td>0</td>\n",
              "      <td>2.561161</td>\n",
              "      <td>0.0</td>\n",
              "      <td>97.0</td>\n",
              "      <td>5.4</td>\n",
              "    </tr>\n",
              "    <tr>\n",
              "      <th>8</th>\n",
              "      <td>35000000</td>\n",
              "      <td>5.23158</td>\n",
              "      <td>64350171.0</td>\n",
              "      <td>106.0</td>\n",
              "      <td>5.5</td>\n",
              "    </tr>\n",
              "    <tr>\n",
              "      <th>9</th>\n",
              "      <td>58000000</td>\n",
              "      <td>14.686036</td>\n",
              "      <td>352194034.0</td>\n",
              "      <td>130.0</td>\n",
              "      <td>6.6</td>\n",
              "    </tr>\n",
              "  </tbody>\n",
              "</table>\n",
              "</div>\n",
              "      <button class=\"colab-df-convert\" onclick=\"convertToInteractive('df-2bd37201-4060-4f47-87ed-7f61483509bf')\"\n",
              "              title=\"Convert this dataframe to an interactive table.\"\n",
              "              style=\"display:none;\">\n",
              "        \n",
              "  <svg xmlns=\"http://www.w3.org/2000/svg\" height=\"24px\"viewBox=\"0 0 24 24\"\n",
              "       width=\"24px\">\n",
              "    <path d=\"M0 0h24v24H0V0z\" fill=\"none\"/>\n",
              "    <path d=\"M18.56 5.44l.94 2.06.94-2.06 2.06-.94-2.06-.94-.94-2.06-.94 2.06-2.06.94zm-11 1L8.5 8.5l.94-2.06 2.06-.94-2.06-.94L8.5 2.5l-.94 2.06-2.06.94zm10 10l.94 2.06.94-2.06 2.06-.94-2.06-.94-.94-2.06-.94 2.06-2.06.94z\"/><path d=\"M17.41 7.96l-1.37-1.37c-.4-.4-.92-.59-1.43-.59-.52 0-1.04.2-1.43.59L10.3 9.45l-7.72 7.72c-.78.78-.78 2.05 0 2.83L4 21.41c.39.39.9.59 1.41.59.51 0 1.02-.2 1.41-.59l7.78-7.78 2.81-2.81c.8-.78.8-2.07 0-2.86zM5.41 20L4 18.59l7.72-7.72 1.47 1.35L5.41 20z\"/>\n",
              "  </svg>\n",
              "      </button>\n",
              "      \n",
              "  <style>\n",
              "    .colab-df-container {\n",
              "      display:flex;\n",
              "      flex-wrap:wrap;\n",
              "      gap: 12px;\n",
              "    }\n",
              "\n",
              "    .colab-df-convert {\n",
              "      background-color: #E8F0FE;\n",
              "      border: none;\n",
              "      border-radius: 50%;\n",
              "      cursor: pointer;\n",
              "      display: none;\n",
              "      fill: #1967D2;\n",
              "      height: 32px;\n",
              "      padding: 0 0 0 0;\n",
              "      width: 32px;\n",
              "    }\n",
              "\n",
              "    .colab-df-convert:hover {\n",
              "      background-color: #E2EBFA;\n",
              "      box-shadow: 0px 1px 2px rgba(60, 64, 67, 0.3), 0px 1px 3px 1px rgba(60, 64, 67, 0.15);\n",
              "      fill: #174EA6;\n",
              "    }\n",
              "\n",
              "    [theme=dark] .colab-df-convert {\n",
              "      background-color: #3B4455;\n",
              "      fill: #D2E3FC;\n",
              "    }\n",
              "\n",
              "    [theme=dark] .colab-df-convert:hover {\n",
              "      background-color: #434B5C;\n",
              "      box-shadow: 0px 1px 3px 1px rgba(0, 0, 0, 0.15);\n",
              "      filter: drop-shadow(0px 1px 2px rgba(0, 0, 0, 0.3));\n",
              "      fill: #FFFFFF;\n",
              "    }\n",
              "  </style>\n",
              "\n",
              "      <script>\n",
              "        const buttonEl =\n",
              "          document.querySelector('#df-2bd37201-4060-4f47-87ed-7f61483509bf button.colab-df-convert');\n",
              "        buttonEl.style.display =\n",
              "          google.colab.kernel.accessAllowed ? 'block' : 'none';\n",
              "\n",
              "        async function convertToInteractive(key) {\n",
              "          const element = document.querySelector('#df-2bd37201-4060-4f47-87ed-7f61483509bf');\n",
              "          const dataTable =\n",
              "            await google.colab.kernel.invokeFunction('convertToInteractive',\n",
              "                                                     [key], {});\n",
              "          if (!dataTable) return;\n",
              "\n",
              "          const docLinkHtml = 'Like what you see? Visit the ' +\n",
              "            '<a target=\"_blank\" href=https://colab.research.google.com/notebooks/data_table.ipynb>data table notebook</a>'\n",
              "            + ' to learn more about interactive tables.';\n",
              "          element.innerHTML = '';\n",
              "          dataTable['output_type'] = 'display_data';\n",
              "          await google.colab.output.renderOutput(dataTable, element);\n",
              "          const docLink = document.createElement('div');\n",
              "          docLink.innerHTML = docLinkHtml;\n",
              "          element.appendChild(docLink);\n",
              "        }\n",
              "      </script>\n",
              "    </div>\n",
              "  </div>\n",
              "  "
            ]
          },
          "metadata": {},
          "execution_count": 1171
        }
      ],
      "source": [
        "import pandas as pd\n",
        "import matplotlib.pyplot as plt\n",
        "import numpy as np\n",
        "import pickle\n",
        "import warnings \n",
        "warnings.filterwarnings(\"ignore\")\n",
        "\n",
        "from sklearn.preprocessing import RobustScaler, MinMaxScaler, StandardScaler\n",
        "\n",
        "#divisao treino e teste\n",
        "from sklearn.model_selection import train_test_split\n",
        "\n",
        "#modelos\n",
        "from sklearn.neural_network import MLPClassifier\n",
        "\n",
        "#metricas\n",
        "from sklearn.metrics import accuracy_score, classification_report, roc_curve\n",
        "\n",
        "#validacao\n",
        "from sklearn.model_selection import cross_val_score\n",
        "from sklearn.model_selection import GridSearchCV\n",
        "\n",
        "data = pd.read_csv(\"movies_metadata.csv\",header=0,index_col=None)\n",
        "data.drop(columns=['adult','homepage','belongs_to_collection','vote_count','release_date','title','original_title','genres','id','status','imdb_id','poster_path','spoken_languages', 'tagline','video','overview','original_language','production_companies','production_countries'],inplace=True)\n",
        "data.dropna(inplace=True)\n",
        "\n",
        "data.head(10)\n",
        "\n"
      ]
    },
    {
      "cell_type": "code",
      "execution_count": null,
      "metadata": {
        "id": "tKqBPMQCp4NJ"
      },
      "outputs": [],
      "source": [
        "\n",
        "#def genero(v):\n",
        "#  return str(v[0:2])\n",
        "\n",
        "#seriesgen=data['genres'].apply(genero)\n",
        "#data['genres']=seriesgen\n",
        "#data=data['genres'].loc[data['genres']!='[]']\n",
        "\n",
        "#data.head()\n"
      ]
    },
    {
      "cell_type": "code",
      "source": [
        "def transformarevenue(s):\n",
        "  return int(s)\n",
        "\n",
        "seriesrev=data['revenue'].apply(transformarevenue)\n",
        "data['revenue']=seriesrev\n",
        "\n",
        "seriesrevenue=data['revenue'].loc[data['revenue']>100000]\n",
        "\n",
        "#print(seriesrevenue.sort_values(ascending=True))\n",
        "\n",
        "#seriesrevenue.head(10)\n",
        "\n",
        "data['revenue']=seriesrevenue\n",
        "\n",
        "data.dropna(inplace=True)\n",
        "\n",
        "seriesrev=pd.cut(data['revenue'],bins=10,labels=[1,2,3,4,5,6,7,8,9,10])\n",
        "data['revenue']=seriesrev\n",
        "\n",
        "print(data['revenue'].sort_values())\n"
      ],
      "metadata": {
        "colab": {
          "base_uri": "https://localhost:8080/"
        },
        "id": "nVvdtic-H1fa",
        "outputId": "8f613bcd-b8f0-4a34-82e2-6c2e767ae20d"
      },
      "execution_count": null,
      "outputs": [
        {
          "output_type": "stream",
          "name": "stdout",
          "text": [
            "10343     1\n",
            "14777     1\n",
            "14774     1\n",
            "14768     1\n",
            "14767     1\n",
            "         ..\n",
            "28830     6\n",
            "17818     6\n",
            "1639      7\n",
            "26555     8\n",
            "14551    10\n",
            "Name: revenue, Length: 6823, dtype: category\n",
            "Categories (10, int64): [1 < 2 < 3 < 4 ... 7 < 8 < 9 < 10]\n"
          ]
        }
      ]
    },
    {
      "cell_type": "code",
      "source": [
        "#seriesrev=pd.cut(data['revenue'],bins=10,labels=[1,2,3,4,5,6,7,8,9,10])\n",
        "#data['revenue']=seriesrev\n",
        "#data.head(10)"
      ],
      "metadata": {
        "id": "pIBF5PqFMSIh"
      },
      "execution_count": null,
      "outputs": []
    },
    {
      "cell_type": "code",
      "execution_count": null,
      "metadata": {
        "id": "EwBvWPGporJL"
      },
      "outputs": [],
      "source": [
        "def transformapop(s):\n",
        "  return float(s)\n",
        "\n",
        "seriespop=data['popularity'].apply(transformapop)\n",
        "data['popularity']=seriespop"
      ]
    },
    {
      "cell_type": "code",
      "execution_count": null,
      "metadata": {
        "id": "SjioReL5mtyw"
      },
      "outputs": [],
      "source": [
        "def transformabudget (s):\n",
        "  return int(s)\n",
        "\n",
        "seriesbudget1=data['budget'].apply(transformabudget)\n",
        "data['budget']=seriesbudget1\n",
        "\n",
        "seriesbudget2=data['budget'].loc[data['budget']>100000]\n",
        "\n",
        "data['budget']=seriesbudget2\n",
        "\n",
        "#print(seriesbudget.sort_values(ascending=True))\n",
        "\n"
      ]
    },
    {
      "cell_type": "code",
      "execution_count": null,
      "metadata": {
        "colab": {
          "base_uri": "https://localhost:8080/"
        },
        "id": "g6yK43sJk-bU",
        "outputId": "75b49596-3780-47cd-e8bd-940db9b187ae"
      },
      "outputs": [
        {
          "output_type": "execute_result",
          "data": {
            "text/plain": [
              "budget           622\n",
              "popularity      6818\n",
              "revenue            9\n",
              "runtime          163\n",
              "vote_average      74\n",
              "dtype: int64"
            ]
          },
          "metadata": {},
          "execution_count": 1177
        }
      ],
      "source": [
        "data.nunique()\n"
      ]
    },
    {
      "cell_type": "code",
      "source": [
        "data.dropna(inplace=True)"
      ],
      "metadata": {
        "id": "fVaD9Vw1Qal1"
      },
      "execution_count": null,
      "outputs": []
    },
    {
      "cell_type": "code",
      "source": [
        "\n",
        "data.head(100)"
      ],
      "metadata": {
        "colab": {
          "base_uri": "https://localhost:8080/",
          "height": 424
        },
        "id": "Wp-yaK-qPyT0",
        "outputId": "1e7731be-32ad-43af-ba28-4416010b7f2a"
      },
      "execution_count": null,
      "outputs": [
        {
          "output_type": "execute_result",
          "data": {
            "text/plain": [
              "         budget  popularity revenue  runtime  vote_average\n",
              "0    30000000.0   21.946943       2     81.0           7.7\n",
              "1    65000000.0   17.015539       1    104.0           6.9\n",
              "3    16000000.0    3.859495       1    127.0           6.1\n",
              "5    60000000.0   17.924927       1    170.0           7.7\n",
              "8    35000000.0    5.231580       1    106.0           5.5\n",
              "..          ...         ...     ...      ...           ...\n",
              "244  10500000.0    2.688562       1    113.0           6.0\n",
              "249  60000000.0   11.970205       1    123.0           7.2\n",
              "250  14000000.0    1.596058       1    139.0           5.2\n",
              "252  60000000.0    6.710215       1    109.0           4.7\n",
              "256  11000000.0   42.149697       3    121.0           8.1\n",
              "\n",
              "[100 rows x 5 columns]"
            ],
            "text/html": [
              "\n",
              "  <div id=\"df-2fabd462-b907-4116-9b38-10915ea7cf5a\">\n",
              "    <div class=\"colab-df-container\">\n",
              "      <div>\n",
              "<style scoped>\n",
              "    .dataframe tbody tr th:only-of-type {\n",
              "        vertical-align: middle;\n",
              "    }\n",
              "\n",
              "    .dataframe tbody tr th {\n",
              "        vertical-align: top;\n",
              "    }\n",
              "\n",
              "    .dataframe thead th {\n",
              "        text-align: right;\n",
              "    }\n",
              "</style>\n",
              "<table border=\"1\" class=\"dataframe\">\n",
              "  <thead>\n",
              "    <tr style=\"text-align: right;\">\n",
              "      <th></th>\n",
              "      <th>budget</th>\n",
              "      <th>popularity</th>\n",
              "      <th>revenue</th>\n",
              "      <th>runtime</th>\n",
              "      <th>vote_average</th>\n",
              "    </tr>\n",
              "  </thead>\n",
              "  <tbody>\n",
              "    <tr>\n",
              "      <th>0</th>\n",
              "      <td>30000000.0</td>\n",
              "      <td>21.946943</td>\n",
              "      <td>2</td>\n",
              "      <td>81.0</td>\n",
              "      <td>7.7</td>\n",
              "    </tr>\n",
              "    <tr>\n",
              "      <th>1</th>\n",
              "      <td>65000000.0</td>\n",
              "      <td>17.015539</td>\n",
              "      <td>1</td>\n",
              "      <td>104.0</td>\n",
              "      <td>6.9</td>\n",
              "    </tr>\n",
              "    <tr>\n",
              "      <th>3</th>\n",
              "      <td>16000000.0</td>\n",
              "      <td>3.859495</td>\n",
              "      <td>1</td>\n",
              "      <td>127.0</td>\n",
              "      <td>6.1</td>\n",
              "    </tr>\n",
              "    <tr>\n",
              "      <th>5</th>\n",
              "      <td>60000000.0</td>\n",
              "      <td>17.924927</td>\n",
              "      <td>1</td>\n",
              "      <td>170.0</td>\n",
              "      <td>7.7</td>\n",
              "    </tr>\n",
              "    <tr>\n",
              "      <th>8</th>\n",
              "      <td>35000000.0</td>\n",
              "      <td>5.231580</td>\n",
              "      <td>1</td>\n",
              "      <td>106.0</td>\n",
              "      <td>5.5</td>\n",
              "    </tr>\n",
              "    <tr>\n",
              "      <th>...</th>\n",
              "      <td>...</td>\n",
              "      <td>...</td>\n",
              "      <td>...</td>\n",
              "      <td>...</td>\n",
              "      <td>...</td>\n",
              "    </tr>\n",
              "    <tr>\n",
              "      <th>244</th>\n",
              "      <td>10500000.0</td>\n",
              "      <td>2.688562</td>\n",
              "      <td>1</td>\n",
              "      <td>113.0</td>\n",
              "      <td>6.0</td>\n",
              "    </tr>\n",
              "    <tr>\n",
              "      <th>249</th>\n",
              "      <td>60000000.0</td>\n",
              "      <td>11.970205</td>\n",
              "      <td>1</td>\n",
              "      <td>123.0</td>\n",
              "      <td>7.2</td>\n",
              "    </tr>\n",
              "    <tr>\n",
              "      <th>250</th>\n",
              "      <td>14000000.0</td>\n",
              "      <td>1.596058</td>\n",
              "      <td>1</td>\n",
              "      <td>139.0</td>\n",
              "      <td>5.2</td>\n",
              "    </tr>\n",
              "    <tr>\n",
              "      <th>252</th>\n",
              "      <td>60000000.0</td>\n",
              "      <td>6.710215</td>\n",
              "      <td>1</td>\n",
              "      <td>109.0</td>\n",
              "      <td>4.7</td>\n",
              "    </tr>\n",
              "    <tr>\n",
              "      <th>256</th>\n",
              "      <td>11000000.0</td>\n",
              "      <td>42.149697</td>\n",
              "      <td>3</td>\n",
              "      <td>121.0</td>\n",
              "      <td>8.1</td>\n",
              "    </tr>\n",
              "  </tbody>\n",
              "</table>\n",
              "<p>100 rows × 5 columns</p>\n",
              "</div>\n",
              "      <button class=\"colab-df-convert\" onclick=\"convertToInteractive('df-2fabd462-b907-4116-9b38-10915ea7cf5a')\"\n",
              "              title=\"Convert this dataframe to an interactive table.\"\n",
              "              style=\"display:none;\">\n",
              "        \n",
              "  <svg xmlns=\"http://www.w3.org/2000/svg\" height=\"24px\"viewBox=\"0 0 24 24\"\n",
              "       width=\"24px\">\n",
              "    <path d=\"M0 0h24v24H0V0z\" fill=\"none\"/>\n",
              "    <path d=\"M18.56 5.44l.94 2.06.94-2.06 2.06-.94-2.06-.94-.94-2.06-.94 2.06-2.06.94zm-11 1L8.5 8.5l.94-2.06 2.06-.94-2.06-.94L8.5 2.5l-.94 2.06-2.06.94zm10 10l.94 2.06.94-2.06 2.06-.94-2.06-.94-.94-2.06-.94 2.06-2.06.94z\"/><path d=\"M17.41 7.96l-1.37-1.37c-.4-.4-.92-.59-1.43-.59-.52 0-1.04.2-1.43.59L10.3 9.45l-7.72 7.72c-.78.78-.78 2.05 0 2.83L4 21.41c.39.39.9.59 1.41.59.51 0 1.02-.2 1.41-.59l7.78-7.78 2.81-2.81c.8-.78.8-2.07 0-2.86zM5.41 20L4 18.59l7.72-7.72 1.47 1.35L5.41 20z\"/>\n",
              "  </svg>\n",
              "      </button>\n",
              "      \n",
              "  <style>\n",
              "    .colab-df-container {\n",
              "      display:flex;\n",
              "      flex-wrap:wrap;\n",
              "      gap: 12px;\n",
              "    }\n",
              "\n",
              "    .colab-df-convert {\n",
              "      background-color: #E8F0FE;\n",
              "      border: none;\n",
              "      border-radius: 50%;\n",
              "      cursor: pointer;\n",
              "      display: none;\n",
              "      fill: #1967D2;\n",
              "      height: 32px;\n",
              "      padding: 0 0 0 0;\n",
              "      width: 32px;\n",
              "    }\n",
              "\n",
              "    .colab-df-convert:hover {\n",
              "      background-color: #E2EBFA;\n",
              "      box-shadow: 0px 1px 2px rgba(60, 64, 67, 0.3), 0px 1px 3px 1px rgba(60, 64, 67, 0.15);\n",
              "      fill: #174EA6;\n",
              "    }\n",
              "\n",
              "    [theme=dark] .colab-df-convert {\n",
              "      background-color: #3B4455;\n",
              "      fill: #D2E3FC;\n",
              "    }\n",
              "\n",
              "    [theme=dark] .colab-df-convert:hover {\n",
              "      background-color: #434B5C;\n",
              "      box-shadow: 0px 1px 3px 1px rgba(0, 0, 0, 0.15);\n",
              "      filter: drop-shadow(0px 1px 2px rgba(0, 0, 0, 0.3));\n",
              "      fill: #FFFFFF;\n",
              "    }\n",
              "  </style>\n",
              "\n",
              "      <script>\n",
              "        const buttonEl =\n",
              "          document.querySelector('#df-2fabd462-b907-4116-9b38-10915ea7cf5a button.colab-df-convert');\n",
              "        buttonEl.style.display =\n",
              "          google.colab.kernel.accessAllowed ? 'block' : 'none';\n",
              "\n",
              "        async function convertToInteractive(key) {\n",
              "          const element = document.querySelector('#df-2fabd462-b907-4116-9b38-10915ea7cf5a');\n",
              "          const dataTable =\n",
              "            await google.colab.kernel.invokeFunction('convertToInteractive',\n",
              "                                                     [key], {});\n",
              "          if (!dataTable) return;\n",
              "\n",
              "          const docLinkHtml = 'Like what you see? Visit the ' +\n",
              "            '<a target=\"_blank\" href=https://colab.research.google.com/notebooks/data_table.ipynb>data table notebook</a>'\n",
              "            + ' to learn more about interactive tables.';\n",
              "          element.innerHTML = '';\n",
              "          dataTable['output_type'] = 'display_data';\n",
              "          await google.colab.output.renderOutput(dataTable, element);\n",
              "          const docLink = document.createElement('div');\n",
              "          docLink.innerHTML = docLinkHtml;\n",
              "          element.appendChild(docLink);\n",
              "        }\n",
              "      </script>\n",
              "    </div>\n",
              "  </div>\n",
              "  "
            ]
          },
          "metadata": {},
          "execution_count": 1179
        }
      ]
    },
    {
      "cell_type": "code",
      "execution_count": null,
      "metadata": {
        "colab": {
          "base_uri": "https://localhost:8080/"
        },
        "id": "L1sSRtc8k9lN",
        "outputId": "87777f07-a649-442e-cd88-e556c3b3ced4"
      },
      "outputs": [
        {
          "output_type": "execute_result",
          "data": {
            "text/plain": [
              "budget          0\n",
              "popularity      0\n",
              "revenue         0\n",
              "runtime         0\n",
              "vote_average    0\n",
              "dtype: int64"
            ]
          },
          "metadata": {},
          "execution_count": 1180
        }
      ],
      "source": [
        "data.isnull().sum()\n"
      ]
    },
    {
      "cell_type": "code",
      "execution_count": null,
      "metadata": {
        "colab": {
          "base_uri": "https://localhost:8080/"
        },
        "id": "_PInTx0vlAWx",
        "outputId": "02178ba8-6333-4a20-f6d8-8587844bfdf5"
      },
      "outputs": [
        {
          "output_type": "stream",
          "name": "stdout",
          "text": [
            "<class 'pandas.core.frame.DataFrame'>\n",
            "Int64Index: 5121 entries, 0 to 45422\n",
            "Data columns (total 5 columns):\n",
            " #   Column        Non-Null Count  Dtype   \n",
            "---  ------        --------------  -----   \n",
            " 0   budget        5121 non-null   float64 \n",
            " 1   popularity    5121 non-null   float64 \n",
            " 2   revenue       5121 non-null   category\n",
            " 3   runtime       5121 non-null   float64 \n",
            " 4   vote_average  5121 non-null   float64 \n",
            "dtypes: category(1), float64(4)\n",
            "memory usage: 205.4 KB\n"
          ]
        }
      ],
      "source": [
        "data.info()\n"
      ]
    },
    {
      "cell_type": "code",
      "execution_count": null,
      "metadata": {
        "id": "YfUgGEhymZdy",
        "colab": {
          "base_uri": "https://localhost:8080/"
        },
        "outputId": "56867602-659e-4891-995b-50f7427d88bb"
      },
      "outputs": [
        {
          "output_type": "execute_result",
          "data": {
            "text/plain": [
              "array([1, 0, 2, 3, 6, 4, 8, 5, 7])"
            ]
          },
          "metadata": {},
          "execution_count": 1182
        }
      ],
      "source": [
        "from sklearn.preprocessing import LabelEncoder\n",
        "\n",
        "le_revenue = LabelEncoder()\n",
        "data['revenue'] = le_revenue.fit_transform(data['revenue'])\n",
        "data['revenue'].unique()"
      ]
    },
    {
      "cell_type": "code",
      "source": [
        "data.info()\n"
      ],
      "metadata": {
        "colab": {
          "base_uri": "https://localhost:8080/"
        },
        "id": "3Pwunll0SJoa",
        "outputId": "91143d50-932e-4f77-dff3-18242c6cc766"
      },
      "execution_count": null,
      "outputs": [
        {
          "output_type": "stream",
          "name": "stdout",
          "text": [
            "<class 'pandas.core.frame.DataFrame'>\n",
            "Int64Index: 5121 entries, 0 to 45422\n",
            "Data columns (total 5 columns):\n",
            " #   Column        Non-Null Count  Dtype  \n",
            "---  ------        --------------  -----  \n",
            " 0   budget        5121 non-null   float64\n",
            " 1   popularity    5121 non-null   float64\n",
            " 2   revenue       5121 non-null   int64  \n",
            " 3   runtime       5121 non-null   float64\n",
            " 4   vote_average  5121 non-null   float64\n",
            "dtypes: float64(4), int64(1)\n",
            "memory usage: 240.0 KB\n"
          ]
        }
      ]
    },
    {
      "cell_type": "code",
      "execution_count": null,
      "metadata": {
        "id": "iSaIZD2omkBm"
      },
      "outputs": [],
      "source": [
        "#le_popularity = LabelEncoder()\n",
        "#data['popularity'] = le_popularity.fit_transform(data['popularity'])\n",
        "#data['popularity'].unique()"
      ]
    },
    {
      "cell_type": "code",
      "execution_count": null,
      "metadata": {
        "id": "56vPbkw-AE7d"
      },
      "outputs": [],
      "source": [
        "#le_title = LabelEncoder()\n",
        "#data['title'] = le_title.fit_transform(data['title'])\n",
        "#data['title'].unique()"
      ]
    },
    {
      "cell_type": "code",
      "execution_count": null,
      "metadata": {
        "colab": {
          "base_uri": "https://localhost:8080/",
          "height": 378
        },
        "id": "z3dc-sIOlBzs",
        "outputId": "29b5f94d-05c2-4ff7-e3bd-5e219f14d7a3"
      },
      "outputs": [
        {
          "output_type": "stream",
          "name": "stdout",
          "text": [
            "                budget  popularity   revenue   runtime  vote_average\n",
            "budget        1.000000    0.299742  0.626342  0.179930     -0.017312\n",
            "popularity    0.299742    1.000000  0.402883  0.082474      0.161213\n",
            "revenue       0.626342    0.402883  1.000000  0.158674      0.147471\n",
            "runtime       0.179930    0.082474  0.158674  1.000000      0.331137\n",
            "vote_average -0.017312    0.161213  0.147471  0.331137      1.000000\n"
          ]
        },
        {
          "output_type": "display_data",
          "data": {
            "text/plain": [
              "<Figure size 432x288 with 2 Axes>"
            ],
            "image/png": "[encoded data removed]"
          },
          "metadata": {
            "needs_background": "light"
          }
        }
      ],
      "source": [
        "import seaborn as sb\n",
        "\n",
        "print(data.corr())\n",
        "dataplot = sb.heatmap(data.corr(), cmap=\"YlGnBu\", annot=True)\n",
        "\n",
        "plt.show()\n"
      ]
    },
    {
      "cell_type": "code",
      "execution_count": null,
      "metadata": {
        "colab": {
          "base_uri": "https://localhost:8080/"
        },
        "id": "rJw6bqEPsaDc",
        "outputId": "a258f855-c839-47d9-caae-9e110b3034d3"
      },
      "outputs": [
        {
          "output_type": "stream",
          "name": "stdout",
          "text": [
            "Shape X_train (4096, 4)\n",
            "Shape X_test (1025, 4)\n",
            "Shape y_train (4096,)\n",
            "Shape y_test (1025,)\n"
          ]
        }
      ],
      "source": [
        "y = data['revenue']\n",
        "X = data.drop('revenue', axis=1)\n",
        "\n",
        "X_train, X_test, y_train, y_test = train_test_split(X,y, test_size = 0.2, random_state = 0)\n",
        "print(\"Shape X_train\", X_train.shape)\n",
        "print(\"Shape X_test\",X_test.shape)\n",
        "print(\"Shape y_train\",y_train.shape)\n",
        "print(\"Shape y_test\",y_test.shape)"
      ]
    },
    {
      "cell_type": "code",
      "execution_count": null,
      "metadata": {
        "id": "KUGVAYnzsdaJ"
      },
      "outputs": [],
      "source": [
        "#gbc = GradientBoostingClassifier()\n",
        "#gbc.fit(X_train, y_train)\n",
        "\n",
        "#gbc_predictions = gbc.predict(X_test)\n",
        "\n",
        "#print(f\"A precisao do teste usando GradientBoostingClassifier foi de {accuracy_score(y_test, gbc_predictions)*100:.2f}% \")\n"
      ]
    },
    {
      "cell_type": "code",
      "execution_count": null,
      "metadata": {
        "id": "tPsCqKd7tP7O"
      },
      "outputs": [],
      "source": [
        "#gnb = GaussianNB()\n",
        "#gnb.fit(X_train, y_train)\n",
        "\n",
        "#gnb_predictions = gnb.predict(X_test)\n",
        "#print(f\"A precisao do teste usando GaussianNB foi de {accuracy_score(y_test, gnb_predictions)*100:.2f}% \")\n"
      ]
    },
    {
      "cell_type": "code",
      "execution_count": null,
      "metadata": {
        "id": "E2o8kXPltgc4"
      },
      "outputs": [],
      "source": [
        "#desc_tree = DecisionTreeClassifier()\n",
        "#desc_tree.fit(X_train, y_train)\n",
        "\n",
        "#dt_predictions = desc_tree.predict(X_test)\n",
        "#print(f\"A precisao do teste usando DecisionTreeClassifier foi de {accuracy_score(y_test, dt_predictions)*100:.2f}% \")\n"
      ]
    },
    {
      "cell_type": "code",
      "execution_count": null,
      "metadata": {
        "id": "saMzKclXtmzh"
      },
      "outputs": [],
      "source": [
        "#random_forest = RandomForestClassifier(n_estimators=100)\n",
        "#random_forest.fit(X_train, y_train)\n",
        "\n",
        "#rf_predictions = random_forest.predict(X_test)\n",
        "#print(f\"A precisao do teste usando RandomForestClassifier foi de {accuracy_score(y_test, rf_predictions)*100:.2f}% \")\n"
      ]
    },
    {
      "cell_type": "code",
      "execution_count": null,
      "metadata": {
        "id": "60qE-TMHtpZC"
      },
      "outputs": [],
      "source": [
        "#log_reg = LogisticRegression()\n",
        "#log_reg.fit(X_train, y_train)\n",
        "\n",
        "#lr_predictions = log_reg.predict(X_test)\n",
        "#print(f\"A precisao do teste usando LogisticRegression foi de {accuracy_score(y_test, lr_predictions)*100:.2f}% \")\n"
      ]
    },
    {
      "cell_type": "code",
      "execution_count": null,
      "metadata": {
        "id": "02jDhfbotrpu"
      },
      "outputs": [],
      "source": [
        "#desc_tree = DecisionTreeClassifier()\n",
        "#desc_tree.fit(X_train, y_train)\n",
        "\n",
        "#dt_predictions = desc_tree.predict(X_test)\n",
        "#print(f\"A precisao do teste usando DecisionTreeClassifier foi de {accuracy_score(y_test, dt_predictions)*100:.2f}% \")\n"
      ]
    },
    {
      "cell_type": "code",
      "source": [
        "from sklearn.neural_network import MLPClassifier\n",
        "X = X_train\n",
        "y = y_train\n",
        "\n",
        "clf = MLPClassifier(solver='lbfgs', alpha=1e-5,hidden_layer_sizes=(5, 2), random_state=1)\n",
        "\n",
        "clf.fit(X, y)\n",
        "MLPClassifier(alpha=1e-05, hidden_layer_sizes=(5, 2), random_state=1,solver='lbfgs')"
      ],
      "metadata": {
        "colab": {
          "base_uri": "https://localhost:8080/"
        },
        "id": "ERXbyLApBcQp",
        "outputId": "a2794215-fca6-45df-9f61-b6715e8d0d30"
      },
      "execution_count": null,
      "outputs": [
        {
          "output_type": "execute_result",
          "data": {
            "text/plain": [
              "MLPClassifier(alpha=1e-05, hidden_layer_sizes=(5, 2), random_state=1,\n",
              "              solver='lbfgs')"
            ]
          },
          "metadata": {},
          "execution_count": 1194
        }
      ]
    },
    {
      "cell_type": "code",
      "execution_count": null,
      "metadata": {
        "id": "og28Tt19_wXv"
      },
      "outputs": [],
      "source": [
        "#X[:, 4] = le_title.transform(X[:,4])\n",
        "#X[:, 7] = le_posteam_type.transform(X[:,7])\n",
        "#X = X.astype(float)\n",
        "#X\n"
      ]
    },
    {
      "cell_type": "code",
      "source": [
        "X"
      ],
      "metadata": {
        "colab": {
          "base_uri": "https://localhost:8080/",
          "height": 424
        },
        "id": "dWchFwXbS9pQ",
        "outputId": "1bd96403-9984-4568-a74e-80ce568f63e5"
      },
      "execution_count": null,
      "outputs": [
        {
          "output_type": "execute_result",
          "data": {
            "text/plain": [
              "           budget  popularity  runtime  vote_average\n",
              "6514    6000000.0    5.586920    103.0           6.8\n",
              "16692  10000000.0    7.787593     91.0           6.1\n",
              "154    11000000.0    5.391556     91.0           5.9\n",
              "45139  50000000.0   33.694599     86.0           5.8\n",
              "7834   29000000.0   15.239013    123.0           7.7\n",
              "...           ...         ...      ...           ...\n",
              "40261   2115000.0    0.109913     92.0           7.0\n",
              "13798  40000000.0    8.058337    108.0           6.7\n",
              "4844   16000000.0    9.101896     89.0           5.5\n",
              "10543  22000000.0   10.600475    108.0           6.1\n",
              "11125  30000000.0   10.798092    113.0           7.1\n",
              "\n",
              "[4096 rows x 4 columns]"
            ],
            "text/html": [
              "\n",
              "  <div id=\"df-6ee29d0b-2a49-4502-b325-0cd3fbd580bb\">\n",
              "    <div class=\"colab-df-container\">\n",
              "      <div>\n",
              "<style scoped>\n",
              "    .dataframe tbody tr th:only-of-type {\n",
              "        vertical-align: middle;\n",
              "    }\n",
              "\n",
              "    .dataframe tbody tr th {\n",
              "        vertical-align: top;\n",
              "    }\n",
              "\n",
              "    .dataframe thead th {\n",
              "        text-align: right;\n",
              "    }\n",
              "</style>\n",
              "<table border=\"1\" class=\"dataframe\">\n",
              "  <thead>\n",
              "    <tr style=\"text-align: right;\">\n",
              "      <th></th>\n",
              "      <th>budget</th>\n",
              "      <th>popularity</th>\n",
              "      <th>runtime</th>\n",
              "      <th>vote_average</th>\n",
              "    </tr>\n",
              "  </thead>\n",
              "  <tbody>\n",
              "    <tr>\n",
              "      <th>6514</th>\n",
              "      <td>6000000.0</td>\n",
              "      <td>5.586920</td>\n",
              "      <td>103.0</td>\n",
              "      <td>6.8</td>\n",
              "    </tr>\n",
              "    <tr>\n",
              "      <th>16692</th>\n",
              "      <td>10000000.0</td>\n",
              "      <td>7.787593</td>\n",
              "      <td>91.0</td>\n",
              "      <td>6.1</td>\n",
              "    </tr>\n",
              "    <tr>\n",
              "      <th>154</th>\n",
              "      <td>11000000.0</td>\n",
              "      <td>5.391556</td>\n",
              "      <td>91.0</td>\n",
              "      <td>5.9</td>\n",
              "    </tr>\n",
              "    <tr>\n",
              "      <th>45139</th>\n",
              "      <td>50000000.0</td>\n",
              "      <td>33.694599</td>\n",
              "      <td>86.0</td>\n",
              "      <td>5.8</td>\n",
              "    </tr>\n",
              "    <tr>\n",
              "      <th>7834</th>\n",
              "      <td>29000000.0</td>\n",
              "      <td>15.239013</td>\n",
              "      <td>123.0</td>\n",
              "      <td>7.7</td>\n",
              "    </tr>\n",
              "    <tr>\n",
              "      <th>...</th>\n",
              "      <td>...</td>\n",
              "      <td>...</td>\n",
              "      <td>...</td>\n",
              "      <td>...</td>\n",
              "    </tr>\n",
              "    <tr>\n",
              "      <th>40261</th>\n",
              "      <td>2115000.0</td>\n",
              "      <td>0.109913</td>\n",
              "      <td>92.0</td>\n",
              "      <td>7.0</td>\n",
              "    </tr>\n",
              "    <tr>\n",
              "      <th>13798</th>\n",
              "      <td>40000000.0</td>\n",
              "      <td>8.058337</td>\n",
              "      <td>108.0</td>\n",
              "      <td>6.7</td>\n",
              "    </tr>\n",
              "    <tr>\n",
              "      <th>4844</th>\n",
              "      <td>16000000.0</td>\n",
              "      <td>9.101896</td>\n",
              "      <td>89.0</td>\n",
              "      <td>5.5</td>\n",
              "    </tr>\n",
              "    <tr>\n",
              "      <th>10543</th>\n",
              "      <td>22000000.0</td>\n",
              "      <td>10.600475</td>\n",
              "      <td>108.0</td>\n",
              "      <td>6.1</td>\n",
              "    </tr>\n",
              "    <tr>\n",
              "      <th>11125</th>\n",
              "      <td>30000000.0</td>\n",
              "      <td>10.798092</td>\n",
              "      <td>113.0</td>\n",
              "      <td>7.1</td>\n",
              "    </tr>\n",
              "  </tbody>\n",
              "</table>\n",
              "<p>4096 rows × 4 columns</p>\n",
              "</div>\n",
              "      <button class=\"colab-df-convert\" onclick=\"convertToInteractive('df-6ee29d0b-2a49-4502-b325-0cd3fbd580bb')\"\n",
              "              title=\"Convert this dataframe to an interactive table.\"\n",
              "              style=\"display:none;\">\n",
              "        \n",
              "  <svg xmlns=\"http://www.w3.org/2000/svg\" height=\"24px\"viewBox=\"0 0 24 24\"\n",
              "       width=\"24px\">\n",
              "    <path d=\"M0 0h24v24H0V0z\" fill=\"none\"/>\n",
              "    <path d=\"M18.56 5.44l.94 2.06.94-2.06 2.06-.94-2.06-.94-.94-2.06-.94 2.06-2.06.94zm-11 1L8.5 8.5l.94-2.06 2.06-.94-2.06-.94L8.5 2.5l-.94 2.06-2.06.94zm10 10l.94 2.06.94-2.06 2.06-.94-2.06-.94-.94-2.06-.94 2.06-2.06.94z\"/><path d=\"M17.41 7.96l-1.37-1.37c-.4-.4-.92-.59-1.43-.59-.52 0-1.04.2-1.43.59L10.3 9.45l-7.72 7.72c-.78.78-.78 2.05 0 2.83L4 21.41c.39.39.9.59 1.41.59.51 0 1.02-.2 1.41-.59l7.78-7.78 2.81-2.81c.8-.78.8-2.07 0-2.86zM5.41 20L4 18.59l7.72-7.72 1.47 1.35L5.41 20z\"/>\n",
              "  </svg>\n",
              "      </button>\n",
              "      \n",
              "  <style>\n",
              "    .colab-df-container {\n",
              "      display:flex;\n",
              "      flex-wrap:wrap;\n",
              "      gap: 12px;\n",
              "    }\n",
              "\n",
              "    .colab-df-convert {\n",
              "      background-color: #E8F0FE;\n",
              "      border: none;\n",
              "      border-radius: 50%;\n",
              "      cursor: pointer;\n",
              "      display: none;\n",
              "      fill: #1967D2;\n",
              "      height: 32px;\n",
              "      padding: 0 0 0 0;\n",
              "      width: 32px;\n",
              "    }\n",
              "\n",
              "    .colab-df-convert:hover {\n",
              "      background-color: #E2EBFA;\n",
              "      box-shadow: 0px 1px 2px rgba(60, 64, 67, 0.3), 0px 1px 3px 1px rgba(60, 64, 67, 0.15);\n",
              "      fill: #174EA6;\n",
              "    }\n",
              "\n",
              "    [theme=dark] .colab-df-convert {\n",
              "      background-color: #3B4455;\n",
              "      fill: #D2E3FC;\n",
              "    }\n",
              "\n",
              "    [theme=dark] .colab-df-convert:hover {\n",
              "      background-color: #434B5C;\n",
              "      box-shadow: 0px 1px 3px 1px rgba(0, 0, 0, 0.15);\n",
              "      filter: drop-shadow(0px 1px 2px rgba(0, 0, 0, 0.3));\n",
              "      fill: #FFFFFF;\n",
              "    }\n",
              "  </style>\n",
              "\n",
              "      <script>\n",
              "        const buttonEl =\n",
              "          document.querySelector('#df-6ee29d0b-2a49-4502-b325-0cd3fbd580bb button.colab-df-convert');\n",
              "        buttonEl.style.display =\n",
              "          google.colab.kernel.accessAllowed ? 'block' : 'none';\n",
              "\n",
              "        async function convertToInteractive(key) {\n",
              "          const element = document.querySelector('#df-6ee29d0b-2a49-4502-b325-0cd3fbd580bb');\n",
              "          const dataTable =\n",
              "            await google.colab.kernel.invokeFunction('convertToInteractive',\n",
              "                                                     [key], {});\n",
              "          if (!dataTable) return;\n",
              "\n",
              "          const docLinkHtml = 'Like what you see? Visit the ' +\n",
              "            '<a target=\"_blank\" href=https://colab.research.google.com/notebooks/data_table.ipynb>data table notebook</a>'\n",
              "            + ' to learn more about interactive tables.';\n",
              "          element.innerHTML = '';\n",
              "          dataTable['output_type'] = 'display_data';\n",
              "          await google.colab.output.renderOutput(dataTable, element);\n",
              "          const docLink = document.createElement('div');\n",
              "          docLink.innerHTML = docLinkHtml;\n",
              "          element.appendChild(docLink);\n",
              "        }\n",
              "      </script>\n",
              "    </div>\n",
              "  </div>\n",
              "  "
            ]
          },
          "metadata": {},
          "execution_count": 1196
        }
      ]
    },
    {
      "cell_type": "code",
      "execution_count": null,
      "metadata": {
        "colab": {
          "base_uri": "https://localhost:8080/"
        },
        "id": "JJnKLqpGELqe",
        "outputId": "6d03b6d1-e146-41bc-b7da-bc71b87efdce"
      },
      "outputs": [
        {
          "output_type": "execute_result",
          "data": {
            "text/plain": [
              "array([0, 0, 0, ..., 0, 0, 0])"
            ]
          },
          "metadata": {},
          "execution_count": 1197
        }
      ],
      "source": [
        "y_predict = clf.predict(X)\n",
        "y_predict"
      ]
    },
    {
      "cell_type": "code",
      "source": [
        "from sklearn.metrics import accuracy_score\n",
        "y_pred = y_predict\n",
        "y_true = y_train\n",
        "\n",
        "accuracy_score(y_true, y_pred,normalize=True)\n"
      ],
      "metadata": {
        "colab": {
          "base_uri": "https://localhost:8080/"
        },
        "id": "2eLeZOdjGXr8",
        "outputId": "b4744b6c-8e65-4048-b588-dc0494de783d"
      },
      "execution_count": null,
      "outputs": [
        {
          "output_type": "execute_result",
          "data": {
            "text/plain": [
              "0.9150390625"
            ]
          },
          "metadata": {},
          "execution_count": 1198
        }
      ]
    },
    {
      "cell_type": "code",
      "execution_count": null,
      "metadata": {
        "id": "DmeZzLxxEZOS"
      },
      "outputs": [],
      "source": [
        "with open('saved_steps.pkl', 'wb') as file:\n",
        "    pickle.dump(data, file)"
      ]
    },
    {
      "cell_type": "code",
      "execution_count": null,
      "metadata": {
        "id": "rqlqJ9aEAeEi"
      },
      "outputs": [],
      "source": []
    }
  ],
  "metadata": {
    "colab": {
      "provenance": [],
      "include_colab_link": true
    },
    "kernelspec": {
      "display_name": "Python 3",
      "name": "python3"
    },
    "language_info": {
      "name": "python"
    }
  },
  "nbformat": 4,
  "nbformat_minor": 0
}